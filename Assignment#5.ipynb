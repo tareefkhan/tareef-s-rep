{
 "cells": [
  {
   "cell_type": "code",
   "execution_count": null,
   "metadata": {},
   "outputs": [],
   "source": [
    "##Question1\n",
    "number=int(input(\"Enter a number to calcuate it's factorial.\"))\n",
    "factorial_Generator(number)\n",
    "\n",
    "def factorial_Generator(num):\n",
    "    ##n = 23\n",
    "    fact = 1\n",
    "  \n",
    "    for i in range(1,num+1): \n",
    "        fact = fact * i \n",
    "        print(fact)\n",
    "      \n",
    "    print (\"The factorial of {} is : \".format(num),end=\"\") \n",
    "    print (fact) \n",
    "        "
   ]
  },
  {
   "cell_type": "code",
   "execution_count": null,
   "metadata": {},
   "outputs": [],
   "source": [
    "##Question2\n",
    "str=input(\"Please enter a string with both upper case and lower case letters\\n\")\n",
    "totalUpper=0\n",
    "totalLower=0\n",
    "\n",
    "\n",
    "for i in range(len(str)):\n",
    "    char=str[i]\n",
    "    \n",
    "    if char.isupper():\n",
    "        totalUpper=totalUpper+1\n",
    "    else:\n",
    "        totalLower=totalLower+1\n",
    "    \n",
    "print(totalUpper)\n",
    "print(totalLower)\n"
   ]
  },
  {
   "cell_type": "code",
   "execution_count": null,
   "metadata": {},
   "outputs": [],
   "source": [
    "##Question3\n",
    "numbers=[1,2,3,4,5,6,7,8,9,10,11,12,13,14,15,16,17,18,19,20]\n",
    "evenFinder(numbers)\n",
    "\n",
    "def evenFinder(n):\n",
    "    for i in numbers:\n",
    "        if i%2==0:\n",
    "            print(i)\n",
    "        else:\n",
    "            pass\n",
    "    "
   ]
  },
  {
   "cell_type": "code",
   "execution_count": null,
   "metadata": {},
   "outputs": [],
   "source": [
    "##Question4\n",
    "word=input(\"Please enter a word:\\n\")\n",
    "\n",
    "def isPalindrome(w):\n",
    "    if w == w[::-1]:\n",
    "        print(\"Is Palindrome\")\n",
    "    else:\n",
    "        print(\"Not Palindrome\")\n",
    "        \n",
    "isPalindrome(word)"
   ]
  },
  {
   "cell_type": "code",
   "execution_count": 16,
   "metadata": {},
   "outputs": [
    {
     "name": "stdout",
     "output_type": "stream",
     "text": [
      "Please enter a number\n",
      "13\n",
      "The number is prime.\n"
     ]
    }
   ],
   "source": [
    "#Question5\n",
    "number=int(input(\"Please enter a number\\n\"))\n",
    "\n",
    "\n",
    "def isPrime(n):\n",
    "    if n>1:\n",
    "        for i in range(2,n):\n",
    "            if n%i==0:\n",
    "                print(\"The number is not prime.\")\n",
    "                break\n",
    "                \n",
    "            else:\n",
    "                print(\"The number is prime.\")\n",
    "                break\n",
    "\n",
    "isPrime(number)"
   ]
  },
  {
   "cell_type": "code",
   "execution_count": null,
   "metadata": {},
   "outputs": [],
   "source": [
    "#Question6\n",
    "\n",
    "def printItem(*l):\n",
    "    print(\"The user bought:\\n\")\n",
    "    for i in l:\n",
    "        print(i)\n",
    "\n",
    "printItem(\"Milk\",\"Eggs\",\"Bananas\",\"Fish Oil\",\"Biscuits\",\"Air Freshner\",\"Tissues\",\"Battery\")"
   ]
  },
  {
   "cell_type": "code",
   "execution_count": 4,
   "metadata": {},
   "outputs": [
    {
     "data": {
      "text/plain": [
       "True"
      ]
     },
     "execution_count": 4,
     "metadata": {},
     "output_type": "execute_result"
    }
   ],
   "source": []
  },
  {
   "cell_type": "code",
   "execution_count": null,
   "metadata": {},
   "outputs": [],
   "source": []
  }
 ],
 "metadata": {
  "kernelspec": {
   "display_name": "Python 3",
   "language": "python",
   "name": "python3"
  },
  "language_info": {
   "codemirror_mode": {
    "name": "ipython",
    "version": 3
   },
   "file_extension": ".py",
   "mimetype": "text/x-python",
   "name": "python",
   "nbconvert_exporter": "python",
   "pygments_lexer": "ipython3",
   "version": "3.7.4"
  }
 },
 "nbformat": 4,
 "nbformat_minor": 2
}
