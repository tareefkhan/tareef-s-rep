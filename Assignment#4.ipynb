{
 "cells": [
  {
   "cell_type": "code",
   "execution_count": null,
   "metadata": {},
   "outputs": [],
   "source": [
    "##Question1\n",
    "School_Friend={\n",
    "    \"first_name\":\"Yousuf\",\n",
    "    \"last_name\":\"Khan\",\n",
    "    \"age\":23,\n",
    "    \"city\":\"Karachi\"\n",
    "}\n",
    "print(School_Friend)\n",
    "School_Friend[\"Qualification\"]=\"Intermediate\"\n",
    "print(School_Friend)\n",
    "School_Friend.update({\"Qualification\":\"BSc\"})\n",
    "print(School_Friend)\n",
    "School_Friend.popitem()\n",
    "print(School_Friend)\n",
    "\n"
   ]
  },
  {
   "cell_type": "code",
   "execution_count": null,
   "metadata": {},
   "outputs": [],
   "source": [
    "##Question2\n",
    "cities={\n",
    "    \"Los Angeles\":{\n",
    "        \"country\":\"USA\",\n",
    "        \"population\":\"4 million\",\n",
    "        \"fact\":\"Hollywood Film Industry\"\n",
    "        \n",
    "    },\n",
    "    \n",
    "    \"Dubai\":{\n",
    "        \"country\":\"UAE\",\n",
    "        \"population\":\"3.1 million\",\n",
    "        \"fact\":\"Burj Khalifa, tallest building in the world\"\n",
    "        \n",
    "    },\n",
    "    \n",
    "    \"Tokyo\":{\n",
    "        \"country\":\"Japan\",\n",
    "        \"population\":\"9 million\",\n",
    "        \"fact\":\"Highest property value\"\n",
    "        \n",
    "    }\n",
    "}\n",
    "for x in cities:\n",
    "    print(x)\n",
    "    print(cities[x])"
   ]
  },
  {
   "cell_type": "code",
   "execution_count": null,
   "metadata": {},
   "outputs": [],
   "source": [
    "##Question3\n",
    "age=int(input(\"Please enter your age for ticket pricing:\"))\n",
    "ticket=0;\n",
    "if age<3:\n",
    "    ticket=0;\n",
    "    print(\"The ticket is free.\")\n",
    "elif age>=3 and age<=12:\n",
    "    ticket=10;\n",
    "    print(\"The ticket is $10\")\n",
    "elif age>12:\n",
    "    ticket=15;\n",
    "    print(\"The ticket is $15\")\n",
    "    "
   ]
  },
  {
   "cell_type": "code",
   "execution_count": null,
   "metadata": {},
   "outputs": [],
   "source": [
    "##Question4\n",
    "def favourite_book(title):\n",
    "    print(\"My favourite book is '\"+title+\"'\")    \n",
    "t=input(\"Hello, what's your favourite book?\")\n",
    "favourite_book(t)"
   ]
  },
  {
   "cell_type": "code",
   "execution_count": 2,
   "metadata": {},
   "outputs": [
    {
     "name": "stdout",
     "output_type": "stream",
     "text": [
      "Please enter your guess: 5\n",
      "Too low, try again\n",
      "Please enter your guess: 20\n",
      "Too high, try again\n",
      "Please enter your guess: 15\n",
      "Too high, try again\n"
     ]
    }
   ],
   "source": [
    "import random\n",
    " \n",
    "hidden = random.randrange(1, 31)\n",
    "#print(hidden) delete comment to check what number it actually is.\n",
    "\n",
    "for x in range (3):\n",
    "\n",
    "    guess = int(input(\"Please enter your guess: \"))\n",
    "    if guess == hidden:\n",
    "        print(\"Correct\")\n",
    "    elif guess < hidden:\n",
    "        print(\"Too low, try again\")\n",
    "    else:\n",
    "        print(\"Too high, try again\")"
   ]
  },
  {
   "cell_type": "code",
   "execution_count": null,
   "metadata": {},
   "outputs": [],
   "source": []
  }
 ],
 "metadata": {
  "kernelspec": {
   "display_name": "Python 3",
   "language": "python",
   "name": "python3"
  },
  "language_info": {
   "codemirror_mode": {
    "name": "ipython",
    "version": 3
   },
   "file_extension": ".py",
   "mimetype": "text/x-python",
   "name": "python",
   "nbconvert_exporter": "python",
   "pygments_lexer": "ipython3",
   "version": "3.7.4"
  }
 },
 "nbformat": 4,
 "nbformat_minor": 2
}
