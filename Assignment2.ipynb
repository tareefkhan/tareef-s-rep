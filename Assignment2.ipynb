{
 "cells": [
  {
   "cell_type": "code",
   "execution_count": 3,
   "metadata": {},
   "outputs": [
    {
     "name": "stdout",
     "output_type": "stream",
     "text": [
      "Please enter English Marks:55\n",
      "Please enter Mathematics Marks:55\n",
      "Please enter Science Marks:55\n",
      "Please enter Pakistan Studies Marks:55\n",
      "Please enter Urdu Marks:55\n",
      "Subject\tTotal Marks\tObtained Marks\n",
      "Maths\t100\t\t55\n",
      "English\t100\t\t55\n",
      "Science\t100\t\t55\n",
      "Urdu\t100\t\t55\n",
      "Pak Studies\t100\t\t55\n",
      "55\n",
      "Your grade is D+\n"
     ]
    }
   ],
   "source": [
    "##Question1\n",
    "eng=int(input(\"Please enter English Marks:\"))\n",
    "math=int(input(\"Please enter Mathematics Marks:\"))\n",
    "sci=int(input(\"Please enter Science Marks:\"))\n",
    "pst=int(input(\"Please enter Pakistan Studies Marks:\"))\n",
    "urdu=int(input(\"Please enter Urdu Marks:\"))\n",
    "total=eng+math+sci+pst+urdu\n",
    "grade=(total/500)*100\n",
    "print(\"Subject\\tTotal Marks\\tObtained Marks\")\n",
    "mathmrks=\"Maths\\t100\\t\\t{}\"\n",
    "engmrks=\"English\\t100\\t\\t{}\"\n",
    "scimrks=\"Science\\t100\\t\\t{}\"\n",
    "urdumrks=\"Urdu\\t100\\t\\t{}\"\n",
    "pstmrks=\"Pak Studies\\t100\\t\\t{}\"\n",
    "print(mathmrks.format(math))\n",
    "print(engmrks.format(eng))\n",
    "print(scimrks.format(sci))\n",
    "print(urdumrks.format(urdu))\n",
    "print(pstmrks.format(pst))\n",
    "print(int(grade))\n",
    "if grade>=90:\n",
    "    print(\"Your grade is A+\")\n",
    "\n",
    "elif grade>=80 and grade<90:\n",
    "    print(\"Your grade is A\")\n",
    "    \n",
    "elif grade>=70 and grade<80:\n",
    "    print(\"Your grade is B+\")\n",
    "\n",
    "elif grade>=60 and grade<70:\n",
    "    print(\"Your grade is C+\")\n",
    "\n",
    "elif grade>=50 and grade<60:\n",
    "    print(\"Your grade is D+\")\n",
    "\n",
    "else:\n",
    "    print(\"You failed\")\n",
    "    \n"
   ]
  },
  {
   "cell_type": "code",
   "execution_count": null,
   "metadata": {},
   "outputs": [],
   "source": [
    "##Question2\n",
    "num=int(input(\"Please enter a number:\"))\n",
    "ans=num%2\n",
    "if ans==0:\n",
    "    print(\"The number is even\")\n",
    "else:\n",
    "    print(\"The number is odd\")"
   ]
  },
  {
   "cell_type": "code",
   "execution_count": null,
   "metadata": {},
   "outputs": [],
   "source": [
    "##Question3\n",
    "cars=[\"honda\",\"toyota\",\"suzuki\",\"subaru\",\"nissan\"]\n",
    "print(len(cars))"
   ]
  },
  {
   "cell_type": "code",
   "execution_count": null,
   "metadata": {},
   "outputs": [],
   "source": [
    "##Question4\n",
    "sum=0\n",
    "list=[1,2,3,4,5]\n",
    "for i in list:\n",
    "    sum=sum+i\n",
    "print(sum)\n"
   ]
  },
  {
   "cell_type": "code",
   "execution_count": 7,
   "metadata": {},
   "outputs": [
    {
     "name": "stdout",
     "output_type": "stream",
     "text": [
      "76999999\n"
     ]
    }
   ],
   "source": [
    "##Question5\n",
    "list=[66,33,44,22,6763,7234,65745,76999999,4,22,1,3,4]\n",
    "list.sort()\n",
    "print(list[-1])"
   ]
  },
  {
   "cell_type": "code",
   "execution_count": 4,
   "metadata": {},
   "outputs": [
    {
     "name": "stdout",
     "output_type": "stream",
     "text": [
      "1\n",
      "1\n",
      "2\n",
      "3\n"
     ]
    }
   ],
   "source": [
    "a=[1,1,2,3,5,8,13,21,34,55,89]\n",
    "for x in a:\n",
    "    if x<5:\n",
    "        print(x)\n",
    "        "
   ]
  },
  {
   "cell_type": "code",
   "execution_count": null,
   "metadata": {},
   "outputs": [],
   "source": []
  }
 ],
 "metadata": {
  "kernelspec": {
   "display_name": "Python 3",
   "language": "python",
   "name": "python3"
  },
  "language_info": {
   "codemirror_mode": {
    "name": "ipython",
    "version": 3
   },
   "file_extension": ".py",
   "mimetype": "text/x-python",
   "name": "python",
   "nbconvert_exporter": "python",
   "pygments_lexer": "ipython3",
   "version": "3.7.4"
  }
 },
 "nbformat": 4,
 "nbformat_minor": 2
}
