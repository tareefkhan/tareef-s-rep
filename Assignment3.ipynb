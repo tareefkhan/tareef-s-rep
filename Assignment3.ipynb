{
 "cells": [
  {
   "cell_type": "code",
   "execution_count": 5,
   "metadata": {},
   "outputs": [
    {
     "name": "stdout",
     "output_type": "stream",
     "text": [
      "This is a basic calculator that performs additon, subtraction, multiplication, and division\n",
      "\tPress '+' for addition\n",
      "\tPress '-' for subtraction\n",
      "\tPress 'x' for multiplication\n",
      "\tPress '/' for division\n",
      "\tPress 'P' for power.\n",
      "For using power function, press 'P'\n",
      "Enter the operand for your desired operation.x\n",
      "Enter the first number.5\n",
      "Enter the second number.5\n",
      "25\n"
     ]
    }
   ],
   "source": [
    "##Question1\n",
    "print(\"This is a basic calculator that performs additon, subtraction, multiplication, and division\")\n",
    "print(\"\\tPress '+' for addition\\n\\tPress '-' for subtraction\\n\\tPress 'x' for multiplication\\n\\tPress '/' for division\\n\\tPress 'P' for power.\")\n",
    "print(\"For using power function, press 'P'\")\n",
    "operation=input(\"Enter the operand for your desired operation.\")\n",
    "\n",
    "if operation=='+':\n",
    "    num1=int(input(\"Enter the first number.\"))\n",
    "    num2=int(input(\"Enter the second number.\"))\n",
    "    print(num1+num2)\n",
    "elif operation=='-':\n",
    "    num1=int(input(\"Enter the first number.\"))\n",
    "    num2=int(input(\"Enter the second number.\"))\n",
    "    print(num1-num2)\n",
    "elif operation=='x':\n",
    "    num1=int(input(\"Enter the first number.\"))\n",
    "    num2=int(input(\"Enter the second number.\"))\n",
    "    print(num1*num2)\n",
    "elif operation=='/':\n",
    "    num1=int(input(\"Enter the first number.\"))\n",
    "    num2=int(input(\"Enter the second number.\"))\n",
    "    print(int(num1/num2))\n",
    "elif operation=='P':\n",
    "    base=int(input(\"Enter the value for base.\"))\n",
    "    power=int(input(\"Enter the value for power.\"))\n",
    "    print(base**power)\n",
    "    \n",
    "    "
   ]
  },
  {
   "cell_type": "code",
   "execution_count": 16,
   "metadata": {},
   "outputs": [
    {
     "name": "stdout",
     "output_type": "stream",
     "text": [
      "2\n",
      "3.0\n",
      "2999981\n",
      "33.3313\n",
      "1\n"
     ]
    }
   ],
   "source": [
    "#Question2\n",
    "list=[\"hello\",2,3.0,\"Goodbye\",2999981,\"A\",33.3313,1,\"end\"]\n",
    "for i in list:\n",
    "    if type(i)==int or type(i)==float:\n",
    "        print(i)"
   ]
  },
  {
   "cell_type": "code",
   "execution_count": 5,
   "metadata": {},
   "outputs": [
    {
     "name": "stdout",
     "output_type": "stream",
     "text": [
      "{'brand': 'Apple', 'model': '7S', 'color': 'Rose Gold', 'Storage': 256}\n"
     ]
    }
   ],
   "source": [
    "##Question3\n",
    "phones={\n",
    "    \"brand\":\"Apple\",\n",
    "    \"model\":\"7S\",\n",
    "    \"color\":\"Rose Gold\"\n",
    "}\n",
    "phones[\"Storage\"]=256\n",
    "print(phones)\n"
   ]
  },
  {
   "cell_type": "code",
   "execution_count": 8,
   "metadata": {},
   "outputs": [
    {
     "name": "stdout",
     "output_type": "stream",
     "text": [
      "397\n"
     ]
    }
   ],
   "source": [
    "##Question4\n",
    "Marks={\n",
    "    \"English\":80,\n",
    "    \"Science\":75,\n",
    "    \"Maths\":90,\n",
    "    \"Pak Studies\":77,\n",
    "    \"Urdu\":75\n",
    "}\n",
    "sum=0\n",
    "for i in Marks:\n",
    "    sum=sum+Marks[i]\n",
    "print(sum)"
   ]
  },
  {
   "cell_type": "code",
   "execution_count": 28,
   "metadata": {},
   "outputs": [
    {
     "name": "stdout",
     "output_type": "stream",
     "text": [
      "Yes, there is duplication occuring.\n"
     ]
    }
   ],
   "source": [
    "##Question5\n",
    "cars=[\"Civic\",\"Corolla\",\"Alto\",\"Vitz\",\"Cultus\",\"City\",\"Cuore\",\"Camry\",\"Civic\",\"Alto\"]\n",
    "if len(cars)!=len(set(cars)):\n",
    "        print(\"Yes, there is duplication occuring.\")"
   ]
  },
  {
   "cell_type": "code",
   "execution_count": 23,
   "metadata": {},
   "outputs": [
    {
     "name": "stdout",
     "output_type": "stream",
     "text": [
      "Please enter a key name to check it's presence in the dictionary:Habablasla\n",
      "That is an invalid key and is not present.\n"
     ]
    }
   ],
   "source": [
    "##Question6\n",
    "Marks={\n",
    "    \"English\":80,\n",
    "    \"Science\":75,\n",
    "    \"Maths\":90,\n",
    "    \"Pak Studies\":77,\n",
    "    \"Urdu\":75\n",
    "}\n",
    "inkey=input(\"Please enter a key name to check it's presence in the dictionary:\")\n",
    "if inkey in Marks:\n",
    "    print(\"Yes,that key is present\")\n",
    "else:\n",
    "    print(\"That is an invalid key and is not present.\")"
   ]
  },
  {
   "cell_type": "code",
   "execution_count": null,
   "metadata": {},
   "outputs": [],
   "source": []
  }
 ],
 "metadata": {
  "kernelspec": {
   "display_name": "Python 3",
   "language": "python",
   "name": "python3"
  },
  "language_info": {
   "codemirror_mode": {
    "name": "ipython",
    "version": 3
   },
   "file_extension": ".py",
   "mimetype": "text/x-python",
   "name": "python",
   "nbconvert_exporter": "python",
   "pygments_lexer": "ipython3",
   "version": "3.7.4"
  }
 },
 "nbformat": 4,
 "nbformat_minor": 2
}
