{
 "cells": [
  {
   "cell_type": "code",
   "execution_count": 5,
   "metadata": {},
   "outputs": [
    {
     "name": "stdout",
     "output_type": "stream",
     "text": [
      "2005\n",
      "Toyota\n",
      "Silver\n",
      "1800\n",
      "Vroooooom\n"
     ]
    }
   ],
   "source": [
    "class Car:\n",
    "    model=2005\n",
    "    make=\"Toyota\"\n",
    "    color=\"Silver\"\n",
    "    displacement=1800\n",
    "    doors=4\n",
    "    \n",
    "    def goForward():\n",
    "        print(\"Vroooooom\")\n",
    "    \n",
    "    def goBackward():\n",
    "        print(\"Beep Beep Beep Beep\")\n",
    "    \n",
    "    def brake():\n",
    "        print(\"Screeeeeeccchh!!!\")\n",
    "    \n",
    "obj1=Car\n",
    "obj2=Car\n",
    "obj3=Car\n",
    "obj4=Car\n",
    "obj5=Car\n",
    "\n",
    "print(obj1.model)\n",
    "print(obj2.make)\n",
    "print(obj3.color)\n",
    "print(obj4.displacement)\n",
    "obj5.goForward()\n",
    "\n",
    "    "
   ]
  },
  {
   "cell_type": "code",
   "execution_count": null,
   "metadata": {},
   "outputs": [],
   "source": []
  }
 ],
 "metadata": {
  "kernelspec": {
   "display_name": "Python 3",
   "language": "python",
   "name": "python3"
  },
  "language_info": {
   "codemirror_mode": {
    "name": "ipython",
    "version": 3
   },
   "file_extension": ".py",
   "mimetype": "text/x-python",
   "name": "python",
   "nbconvert_exporter": "python",
   "pygments_lexer": "ipython3",
   "version": "3.7.4"
  }
 },
 "nbformat": 4,
 "nbformat_minor": 2
}
